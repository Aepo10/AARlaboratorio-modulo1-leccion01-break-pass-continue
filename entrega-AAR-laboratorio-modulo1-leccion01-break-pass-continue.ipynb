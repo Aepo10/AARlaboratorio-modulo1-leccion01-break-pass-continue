{
 "cells": [
  {
   "cell_type": "markdown",
   "metadata": {},
   "source": [
    "\n",
    "<div style=\"text-align: center;\">\n",
    "  <img src=\"https://github.com/Hack-io-Data/Imagenes/blob/main/01-LogosHackio/logo_celeste@4x.png?raw=true\" alt=\"esquema\" />\n",
    "</div>\n"
   ]
  },
  {
   "cell_type": "markdown",
   "metadata": {},
   "source": [
    "# Laboratorio de Python: break(), pass(), continue()"
   ]
  },
  {
   "cell_type": "markdown",
   "metadata": {},
   "source": [
    "## Ejercicio 1: Validación de datos numéricos. \n",
    "\n",
    "Escribe un bucle que lea una lista de números y detenga la ejecución si encuentra un valor negativo. Muestra un mensaje indicando el número negativo encontrado.\n"
   ]
  },
  {
   "cell_type": "code",
   "execution_count": 7,
   "metadata": {},
   "outputs": [
    {
     "name": "stdout",
     "output_type": "stream",
     "text": [
      "el número 1 es correcto\n",
      "el número 2 es correcto\n",
      "el número 3 es correcto\n",
      "el número 5 es correcto\n",
      "se ha encontrado un número negativo: -3 y por tanto se detiene el bucle\n"
     ]
    }
   ],
   "source": [
    "Lista_num1 = [1, 2, 3, 5,-3 , 7]\n",
    "\n",
    "for n in Lista_num1:\n",
    "    if n < 0:\n",
    "        print(f\"se ha encontrado un número negativo: {n} y por tanto se detiene el bucle\")\n",
    "        break\n",
    "    else:\n",
    "        print(f\"el número {n} es correcto\")\n"
   ]
  },
  {
   "cell_type": "markdown",
   "metadata": {},
   "source": [
    "\n",
    "## Ejercicio 2: Filtrado de datos\n",
    "\n",
    "Escribe un bucle que imprima los números de una lista, pero que omita los números pares.\n"
   ]
  },
  {
   "cell_type": "code",
   "execution_count": 11,
   "metadata": {},
   "outputs": [
    {
     "name": "stdout",
     "output_type": "stream",
     "text": [
      "el siguiente número impar es el 1\n",
      "el siguiente número impar es el 3\n",
      "el siguiente número impar es el 5\n",
      "el siguiente número impar es el 7\n",
      "el siguiente número impar es el 9\n",
      "el siguiente número impar es el -3\n",
      "el siguiente número impar es el -5\n"
     ]
    }
   ],
   "source": [
    "lista_num2 = [1,2,3,4,5,6,7,8,9,-3,-5,-4]\n",
    "for n in lista_num2:\n",
    "    if n % 2 == 0:\n",
    "        continue\n",
    "    else:\n",
    "        print(f\"el siguiente número impar es el {n}\")\n"
   ]
  },
  {
   "cell_type": "markdown",
   "metadata": {},
   "source": [
    "## Ejercicio 3: Búsqueda de un valor\n",
    "\n",
    "Escribe un programa que busque un valor específico en una lista y detenga la búsqueda cuando lo encuentre. Si se encuentra, muestra un mensaje.\n"
   ]
  },
  {
   "cell_type": "code",
   "execution_count": 17,
   "metadata": {},
   "outputs": [
    {
     "name": "stdout",
     "output_type": "stream",
     "text": [
      "Jeancha ha sido encontrado en esta lista\n"
     ]
    }
   ],
   "source": [
    "nombres_3 = [\"Ana\", \"Pedro\", \"Juan\", \"Marcos\", \"Jeancha\", \"Miguel\"]\n",
    "for n in nombres_3:\n",
    "    if n == \"Jeancha\":\n",
    "        print(\"Jeancha ha sido encontrado en esta lista\")\n",
    "        break"
   ]
  },
  {
   "cell_type": "markdown",
   "metadata": {},
   "source": [
    "## Ejercicio 4: Estructura de código incompleto\n",
    "\n",
    "Define una función que aún no tenga lógica implementada, pero que se pueda ejecutar sin errores utilizando `pass`."
   ]
  },
  {
   "cell_type": "code",
   "execution_count": null,
   "metadata": {},
   "outputs": [
    {
     "name": "stdout",
     "output_type": "stream",
     "text": [
      "Conseguido\n"
     ]
    }
   ],
   "source": [
    "nombres_3 = [\"Ana\", \"Pedro\", \"Juan\", \"Marcos\", \"Jeancha\", \"Miguel\"]\n",
    "for n in nombres_3:\n",
    "    pass\n",
    "print(\"Conseguido\")"
   ]
  },
  {
   "cell_type": "markdown",
   "metadata": {},
   "source": [
    "## Ejercicio 5: Validación condicional\n",
    "\n",
    "Escribe un bucle que verifique una lista de nombres. Si encuentra un nombre vacío (cadena vacía), salta esa iteración y continúa con los demás nombres.\n"
   ]
  },
  {
   "cell_type": "code",
   "execution_count": 20,
   "metadata": {},
   "outputs": [
    {
     "name": "stdout",
     "output_type": "stream",
     "text": [
      "el comprador ha sido Ana\n",
      "el comprador ha sido Pedro\n",
      "el comprador ha sido Juan\n",
      "el comprador ha sido Marcos\n",
      "el comprador ha sido Jeancha\n",
      "el comprador ha sido Miguel\n"
     ]
    }
   ],
   "source": [
    "nombres_5 = [\"Ana\", \"Pedro\", \"Juan\", \"Marcos\",\"\", \"Jeancha\", \"Miguel\"]\n",
    "for n in nombres_5:\n",
    "    if n == \"\":\n",
    "        continue\n",
    "    else:\n",
    "        print(f\"el comprador ha sido {n}\")"
   ]
  },
  {
   "cell_type": "markdown",
   "metadata": {},
   "source": [
    "## Ejercicio 6: Búsqueda de claves en un diccionario\n",
    "\n",
    "Escribe un programa que recorra un diccionario y detenga la búsqueda si encuentra una clave específica pasada por el usuario.\n"
   ]
  },
  {
   "cell_type": "code",
   "execution_count": 30,
   "metadata": {},
   "outputs": [
    {
     "name": "stdout",
     "output_type": "stream",
     "text": [
      "el jugador lleva un total de 45 goles\n"
     ]
    }
   ],
   "source": [
    "Datos_persona6 = {\"Nombre\":\"Vinicius\", \"Edad\":24, \"altura\":1.75, \"goles\":45, \"partidos\":60}\n",
    "for n in Datos_persona6.keys():\n",
    "    if n == \"goles\":\n",
    "        print(f\"el jugador lleva un total de {Datos_persona6[n]} goles\")\n",
    "        break\n",
    "\n"
   ]
  },
  {
   "cell_type": "markdown",
   "metadata": {},
   "source": [
    "## Ejercicio 7: Bucle con múltiples excepciones\n",
    "\n",
    "Escribe un bucle que procese una lista de operaciones matemáticas, omitiendo las operaciones que intenten dividir por cero.\n"
   ]
  },
  {
   "cell_type": "code",
   "execution_count": 47,
   "metadata": {},
   "outputs": [
    {
     "name": "stdout",
     "output_type": "stream",
     "text": [
      "5 dividido entre 5 es igual a 1.0\n",
      "5 dividido entre 4 es igual a 1.25\n",
      "5 dividido entre 3 es igual a 1.6666666666666667\n",
      "5 dividido entre 2 es igual a 2.5\n",
      "5 dividido entre 1 es igual a 5.0\n",
      "5 dividido entre -1 es igual a -5.0\n",
      "5 dividido entre -2 es igual a -2.5\n",
      "5 dividido entre -3 es igual a -1.6666666666666667\n",
      "5 dividido entre -4 es igual a -1.25\n"
     ]
    }
   ],
   "source": [
    "#Lo que quiero hacer es que pida don números al usuario y divida el primero entre todos los números que haya entre el primero y el segundo incluídos negativos\n",
    "numerador7 = 5\n",
    "limitante = -5\n",
    "numerador7=int(numerador7)\n",
    "limitante=int(limitante)\n",
    "rango7= list(range(numerador7,limitante,-1))\n",
    "Resultado7 = 0\n",
    "for n in rango7:\n",
    "    n=int(n)\n",
    "    if n == 0:\n",
    "        continue\n",
    "    else:\n",
    "        Resultado7 = numerador7 / n\n",
    "        print(f\"{numerador7} dividido entre {n} es igual a {Resultado7}\")\n",
    "    \n"
   ]
  },
  {
   "cell_type": "markdown",
   "metadata": {},
   "source": [
    "## Ejercicio 8: Búsqueda en una lista anidada\n",
    "\n",
    "Escribe un programa que recorra una lista de listas y detenga la búsqueda cuando encuentre un valor mayor a 50.\n"
   ]
  },
  {
   "cell_type": "code",
   "execution_count": 54,
   "metadata": {},
   "outputs": [
    {
     "name": "stdout",
     "output_type": "stream",
     "text": [
      "el primer valor mayor que 50 es el 51\n"
     ]
    }
   ],
   "source": [
    "lista_8_1= [1,2,3,4,5,6,7]\n",
    "lista_8_2= [10,11,14,35]\n",
    "lista_8_3= [49,51,73,12]\n",
    "lista_de_listas=[lista_8_1,lista_8_2,lista_8_3]\n",
    "for sublista in lista_de_listas:\n",
    "    for n in sublista:\n",
    "        if n > 50:\n",
    "            print(f\"el primer valor mayor que 50 es el {n}\")\n",
    "            break\n",
    "        else:\n",
    "            continue\n"
   ]
  },
  {
   "cell_type": "markdown",
   "metadata": {},
   "source": [
    "## Ejercicio 9: Evaluación de series temporales\n",
    "\n",
    "Escribe un programa que recorra una lista de datos de series temporales y se detenga si encuentra un valor atípico (mayor a 100).\n"
   ]
  },
  {
   "cell_type": "code",
   "execution_count": 63,
   "metadata": {},
   "outputs": [
    {
     "name": "stdout",
     "output_type": "stream",
     "text": [
      "la serie temporal tiene un valor atípico: 110, no es valida\n"
     ]
    }
   ],
   "source": [
    "serie_temporal_9 = [5, 12, 13, 24, 32, 90, 110, 12]\n",
    "for n in serie_temporal_9:\n",
    "    if n > 100:\n",
    "        print(f\"la serie temporal tiene un valor atípico: {n}, no es valida\")\n",
    "        break\n",
    "    \n",
    "else:\n",
    "    print(\"la serie temporal no contiene valores atípicos\")\n",
    "    "
   ]
  },
  {
   "cell_type": "markdown",
   "metadata": {},
   "source": [
    "## Ejercicio 10: Iteración con valores faltantes\n",
    "\n",
    "Crea un bucle que recorra una lista de datos de ventas y salte los valores faltantes representados por `None`."
   ]
  },
  {
   "cell_type": "code",
   "execution_count": 69,
   "metadata": {},
   "outputs": [
    {
     "name": "stdout",
     "output_type": "stream",
     "text": [
      "las ventas han sido de 1200\n",
      "las ventas han sido de 3000\n",
      "las ventas han sido de 0\n",
      "las ventas han sido de 4500\n",
      "las ventas han sido de 1230\n"
     ]
    }
   ],
   "source": [
    "listado_ventas_10 = [1200, 3000, None, 0, 4500,None, 1230]\n",
    "for n in listado_ventas_10:\n",
    "    if n == None:\n",
    "        continue\n",
    "    else:\n",
    "        print(f\"las ventas han sido de {n}\")\n",
    "\n"
   ]
  },
  {
   "cell_type": "markdown",
   "metadata": {},
   "source": [
    "## Ejercicio 11: Control de flujo en bucles anidados\n",
    "\n",
    "Escribe un bucle que recorra la matriz dada y se detenga si se encuentra un número negativo, mostrando su posición.\n",
    "\n"
   ]
  },
  {
   "cell_type": "code",
   "execution_count": null,
   "metadata": {},
   "outputs": [
    {
     "name": "stdout",
     "output_type": "stream",
     "text": [
      "numero negativo en fila 2, columna 2\n"
     ]
    }
   ],
   "source": [
    "Matriz11= [\n",
    "    [11,2,3],\n",
    "    [4,-5,6],\n",
    "    [7,8,9]\n",
    "    ]\n",
    "#añado un control para poder salir también del segundo bucle, esto lo he buscado en internet \n",
    "control = False\n",
    "for fila in range(len(Matriz11)):\n",
    "    for columna in range(len(Matriz11[fila])):\n",
    "        if Matriz11[fila][columna]<0:\n",
    "            num_fila = fila +1\n",
    "            num_col = columna +1\n",
    "            print(f\"numero negativo en fila {num_fila}, columna {num_col}\")\n",
    "            control = True\n",
    "            break\n",
    "    if control:\n",
    "        break\n",
    "else:\n",
    "    print(\"no hay números negativos\")\n",
    "\n",
    "    \n",
    "\n",
    "    \n",
    "    \n",
    "   \n"
   ]
  },
  {
   "cell_type": "markdown",
   "metadata": {},
   "source": [
    "## Ejercicio 12: Placeholder para funciones incompletas\n",
    "\n",
    "Escribe una función que tenga un bloque de control que aún no esté implementado, utilizando `pass` para que no genere errores."
   ]
  },
  {
   "cell_type": "code",
   "execution_count": null,
   "metadata": {},
   "outputs": [
    {
     "name": "stdout",
     "output_type": "stream",
     "text": [
      "Conseguido\n"
     ]
    }
   ],
   "source": [
    "#Copio el ejercicio 4\n",
    "nombres_3 = [\"Ana\", \"Pedro\", \"Juan\", \"Marcos\", \"Jeancha\", \"Miguel\"]\n",
    "for n in nombres_3:\n",
    "    pass\n",
    "print(\"Conseguido\")"
   ]
  }
 ],
 "metadata": {
  "kernelspec": {
   "display_name": "Python 3",
   "language": "python",
   "name": "python3"
  },
  "language_info": {
   "codemirror_mode": {
    "name": "ipython",
    "version": 3
   },
   "file_extension": ".py",
   "mimetype": "text/x-python",
   "name": "python",
   "nbconvert_exporter": "python",
   "pygments_lexer": "ipython3",
   "version": "3.12.5"
  }
 },
 "nbformat": 4,
 "nbformat_minor": 2
}
